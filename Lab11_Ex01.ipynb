{
 "cells": [
  {
   "cell_type": "markdown",
   "metadata": {},
   "source": [
    "## Lab 11 Constructor"
   ]
  },
  {
   "cell_type": "markdown",
   "metadata": {},
   "source": [
    "## Ex01 คอนสตรักเตอร์เริ่มต้น (Default Constructor)"
   ]
  },
  {
   "cell_type": "markdown",
   "metadata": {},
   "source": [
    "คอนสตรักเตอร์ในภาษา C# คือ เมธอดพิเศษที่ถูกเรียกใช้โดยอัตโนมัติเมื่อมีการสร้างอ็อบเจ็กต์ (Object) ของคลาส (Class) ขึ้นมา มีหน้าที่หลักในการกำหนดค่าเริ่มต้นให้กับฟิลด์ (Field) ต่างๆ ของอ็อบเจ็กต์ หรือทำการประมวลผลอื่นๆ ที่จำเป็นในการเริ่มต้นอ็อบเจ็กต์ \n",
    "\n",
    "ในคลาสหนึ่งๆ สามารถมีคอนสตรักเตอร์ได้หลายตัว แต่จะไม่มีนั้นไม่ได้ ถึงแม้ว่าเราไม่เขียนคอนสตรักเตอร์ใดๆ ไว้ในคลาสก็ตาม (คอมไพเลอร์จะสร้างให้เอง)"
   ]
  },
  {
   "cell_type": "markdown",
   "metadata": {},
   "source": [
    "## คุณสมบัติของคอนสตรักเตอร์\n",
    "|คุณสมบัติ|ความหมาย|\n",
    "|---|---|\n",
    "|ชื่อ| ชื่อของคอนสตรักเตอร์จะต้องเหมือนกับชื่อของคลาสเสมอ |\n",
    "|ส่งการกลับ (return type)| คอนสตรักเตอร์ไม่มีค่าส่งกลับเลย ไม่มีแม้กระทั่ง void\n",
    "|ตัวระบุการเข้าถึง| คอนสตรักเตอร์สามารถมีตัวระบุการเข้าถึงได้ เช่น public, private, protected |\n",
    "|พารามิเตอร์| คอนสตรักเตอร์สามารถรับพารามิเตอร์ได้ ซึ่งอาจจะนำมาใช้ในการส่งค่าเริ่มต้นให้กับฟิลด์ต่าง ๆ ของอ็อบเจ็กต์ |"
   ]
  },
  {
   "cell_type": "markdown",
   "metadata": {},
   "source": [
    "## คอนสตรักเตอร์เริ่มต้น (Default Constructor)\n",
    "คอนสตรักเตอร์เริ่มต้นเป็นคอนสตรักเตอร์ที่ไม่มีพารามิเตอร์ ถ้าเราไม่กำหนดคอนสตรักเตอร์ใดๆ ในคลาส C# จะสร้างคอนสตรักเตอร์เริ่มต้นให้โดยอัตโนมัติ ซึ่งจะกำหนดค่าเริ่มต้นให้กับฟิลด์ต่างๆ เป็นค่าเริ่มต้นของชนิดข้อมูลนั้นๆ (เช่น 0 สำหรับ int, null สำหรับ string)"
   ]
  },
  {
   "cell_type": "markdown",
   "metadata": {},
   "source": [
    "## การทดลอง 11.1.1 การตรวจสอบว่ามี constructor ใดบ้างอยู่ในคลาส"
   ]
  },
  {
   "cell_type": "markdown",
   "metadata": {},
   "source": [
    "โดยทั่วไปแล้วระดับการเข้าถึงของ default constructor ในภาษา C# จะต้องไม่เกินระดับการเข้าถึงของคลาส เนื่องจากเหตุผลต่อไปนี้\n",
    "\n",
    "__1. ความสอดคล้อง__\n",
    "\n",
    "- ระดับการเข้าถึงของคอนสตรัคเตอร์ควรสอดคล้องกับระดับการเข้าถึงของคลาส เพื่อให้การเข้าถึงและการใช้งานคลาสเป็นไปอย่างสมเหตุสมผล \n",
    "- หากคอนสตรัคเตอร์มีระดับการเข้าถึงที่สูงกว่าคลาส อาจทำให้เกิดความสับสนและไม่เป็นไปตามหลักการของการห่อหุ้มข้อมูล (encapsulation)\n",
    "\n",
    "__2. การควบคุมการสร้างออบเจ็กต์__\n",
    "\n",
    "- ระดับการเข้าถึงของคอนสตรัคเตอร์มีผลต่อการสร้างออบเจ็กต์ของคลาส หากคอนสตรัคเตอร์มีระดับการเข้าถึงที่ต่ำกว่าคลาส อาจทำให้ไม่สามารถสร้างออบเจ็กต์ของคลาสได้จากภายนอกคลาส \n",
    "- อย่างไรก็ตาม อาจเป็นเจตนาของผู้พัฒนาที่ต้องการควบคุมการสร้างออบเจ็กต์\n",
    "\n",
    "__ข้อยกเว้น__\n",
    "\n",
    "- ในบางกรณี อาจมีข้อยกเว้นที่คอนสตรัคเตอร์มีระดับการเข้าถึงที่ต่ำกว่าคลาส เช่น คลาสที่ต้องการให้คลาสอื่นที่สืบทอดมาเท่านั้นที่สามารถสร้างออบเจ็กต์ได้ จะกำหนดให้คอนสตรัคเตอร์เป็น protected ในขณะที่คลาสเป็น public"
   ]
  },
  {
   "cell_type": "markdown",
   "metadata": {},
   "source": [
    "## การตรวจสอบว่ามี constructor ใดบ้างอยู่ในคลาส"
   ]
  },
  {
   "cell_type": "markdown",
   "metadata": {},
   "source": [
    "#### 1. กรณีที่ไม่ได้เขียน  constructor เอง "
   ]
  },
  {
   "cell_type": "code",
   "execution_count": 1,
   "metadata": {
    "dotnet_interactive": {
     "language": "csharp"
    },
    "polyglot_notebook": {
     "kernelName": "csharp"
    }
   },
   "outputs": [
    {
     "name": "stdout",
     "output_type": "stream",
     "text": [
      "Name = .ctor\n",
      "Parameters = 0    ** อาจจะเป็น default constructor (ในกรณีที่ไม่มี  parameterless constructor)\n",
      "IsConstructor = True\n",
      "Attributes = Public, HideBySig, SpecialName, RTSpecialName\n"
     ]
    }
   ],
   "source": [
    "using System;\n",
    "using System.Reflection;\n",
    "\n",
    "// คลาสที่ไม่มีการสร้างคอนสตรักเตอร์ไว้ในคลาส คอมไพเลอร์จะสร้างให้โดยอัตโนมัติ 1 ตัว\n",
    "// เป็นคอนสตรักเตอร์ที่ไม่มีพารามิเตอร์ ไม่มีชนิดส่งค่ากลับ และมีระดับการเข้าถึง\n",
    "\n",
    "class Dog\n",
    "{\n",
    "}\n",
    "\n",
    "// สร้าง reference ชนิด type ขึ้นมา 1 ตัว แล้วกำหนดค่า typeof ให้เป็น Dog \n",
    "// เพื่อที่จะแสดง information ของ Dog  \n",
    "Type type = typeof(Dog);\n",
    "\n",
    "// สร้าง array ของ ConstructorInfo เพือที่จะวนลูปแสดง\n",
    "// เหตุผลที่ต้องใช้ array ก็เพราะว่าอาจจะมี constructor หลายตัว  \n",
    "ConstructorInfo[] constructors = type.GetConstructors();\n",
    "\n",
    "//วนลูปเพื่อแสดงรายการ constructor\n",
    "foreach (ConstructorInfo constructor in constructors)\n",
    "{\n",
    "    Console.WriteLine($\"Name = {constructor.Name}\");\n",
    "    Console.Write($\"Parameters = {constructor.GetParameters().Length}\");\n",
    "    if (constructor.GetParameters().Length == 0)\n",
    "    {\n",
    "       Console.WriteLine(\"    ** อาจจะเป็น default constructor (ในกรณีที่ไม่มี  parameterless constructor)\");\n",
    "    }\n",
    "    Console.WriteLine($\"IsConstructor = {constructor.IsConstructor}\");\n",
    "    Console.WriteLine($\"Attributes = {constructor.Attributes}\");\n",
    "}"
   ]
  },
  {
   "cell_type": "markdown",
   "metadata": {},
   "source": [
    "#### 2. กรณีที่เขียน constructor เอง แต่ไม่มีพารามิเตอร์ "
   ]
  },
  {
   "cell_type": "markdown",
   "metadata": {},
   "source": [
    "การเขียน constructor เองในแบบไม่มีพารามิเตอร์นั้น เมื่อพิจารณาผิวเผินจะพบว่ามีรูปแบบเหมือนกับ default constructor\n",
    "\n",
    "ข้อสำคัญที่ควรจำคือ ถ้าเป็น constructor ที่เราเขียนเอง ถึงแม้จะมีหน้าตาเหมือน default constructor ก็จะไม่เรียกว่า default constructor แต่จะเรียกว่า  __\"no-argument constructor\"__ หรือ __\"parameterless constructor\"__"
   ]
  },
  {
   "cell_type": "code",
   "execution_count": 2,
   "metadata": {
    "dotnet_interactive": {
     "language": "csharp"
    },
    "polyglot_notebook": {
     "kernelName": "csharp"
    }
   },
   "outputs": [
    {
     "name": "stdout",
     "output_type": "stream",
     "text": [
      "Name = .ctor\n",
      "Parameters = 0    ** อาจจะเป็น default constructor (ในกรณีที่ไม่มี  parameterless constructor)\n",
      "IsConstructor = True\n",
      "Attributes = Public, HideBySig, SpecialName, RTSpecialName\n"
     ]
    }
   ],
   "source": [
    "using System;\n",
    "using System.Reflection;\n",
    "\n",
    "// คลาสที่ไม่มีการสร้างคอนสตรักเตอร์ไว้ในคลาส คอมไพเลอร์จะสร้างให้โดยอัตโนมัติ 1 ตัว\n",
    "// เป็นคอนสตรักเตอร์ที่ไม่มีพารามิเตอร์ ไม่มีชนิดส่งค่ากลับ และมีระดับการเข้าถึง\n",
    "\n",
    "class Dog\n",
    "{\n",
    "    // parameterless constructor\n",
    "    public Dog()\n",
    "    {\n",
    "\n",
    "    }\n",
    "}\n",
    "\n",
    "// สร้าง reference ชนิด type ขึ้นมา 1 ตัว แล้วกำหนดค่า typeof ให้เป็น Dog \n",
    "// เพื่อที่จะแสดง information ของ Dog  \n",
    "Type type = typeof(Dog);\n",
    "\n",
    "// สร้าง array ของ ConstructorInfo เพือที่จะวนลูปแสดง\n",
    "// เหตุผลที่ต้องใช้ array ก็เพราะว่าอาจจะมี constructor หลายตัว  \n",
    "ConstructorInfo[] constructors = type.GetConstructors();\n",
    "\n",
    "//วนลูปเพื่อแสดงรายการ constructor\n",
    "foreach (ConstructorInfo constructor in constructors)\n",
    "{\n",
    "    Console.WriteLine($\"Name = {constructor.Name}\");\n",
    "    Console.Write($\"Parameters = {constructor.GetParameters().Length}\");\n",
    "    if (constructor.GetParameters().Length == 0)\n",
    "    {\n",
    "       Console.WriteLine(\"    ** อาจจะเป็น default constructor (ในกรณีที่ไม่มี  parameterless constructor)\");\n",
    "    }\n",
    "    Console.WriteLine($\"IsConstructor = {constructor.IsConstructor}\");\n",
    "    Console.WriteLine($\"Attributes = {constructor.Attributes}\");\n",
    "}"
   ]
  },
  {
   "cell_type": "markdown",
   "metadata": {},
   "source": [
    "#### 3. กรณีที่มี constructor มากกว่า 1 ตัว "
   ]
  },
  {
   "cell_type": "code",
   "execution_count": 3,
   "metadata": {
    "dotnet_interactive": {
     "language": "csharp"
    },
    "polyglot_notebook": {
     "kernelName": "csharp"
    }
   },
   "outputs": [
    {
     "name": "stdout",
     "output_type": "stream",
     "text": [
      "Name = .ctor\n",
      "Parameters = 0\n",
      "            ** อาจจะเป็น default constructor (ในกรณีที่ไม่มี  parameterless constructor)\n",
      "IsConstructor = True\n",
      "Attributes = Public, HideBySig, SpecialName, RTSpecialName\n",
      "------------------------------------------\n",
      "Name = .ctor\n",
      "Parameters = 1\n",
      "IsConstructor = True\n",
      "Attributes = Public, HideBySig, SpecialName, RTSpecialName\n",
      "------------------------------------------\n"
     ]
    }
   ],
   "source": [
    "using System;\n",
    "using System.Reflection;\n",
    "\n",
    "// คลาสที่ไม่มีการสร้างคอนสตรักเตอร์ไว้ในคลาส คอมไพเลอร์จะสร้างให้โดยอัตโนมัติ 1 ตัว\n",
    "// เป็นคอนสตรักเตอร์ที่ไม่มีพารามิเตอร์ ไม่มีชนิดส่งค่ากลับ และมีระดับการเข้าถึง\n",
    "\n",
    "class Dog\n",
    "{\n",
    "    // parameterless constructor\n",
    "    public Dog()\n",
    "    {\n",
    "    }\n",
    "    public Dog(int Age)\n",
    "    {\n",
    "    }\n",
    "\n",
    "}\n",
    "\n",
    "// สร้าง reference ชนิด type ขึ้นมา 1 ตัว แล้วกำหนดค่า typeof ให้เป็น Dog \n",
    "// เพื่อที่จะแสดง information ของ Dog  \n",
    "Type type = typeof(Dog);\n",
    "\n",
    "// สร้าง array ของ ConstructorInfo เพือที่จะวนลูปแสดง\n",
    "// เหตุผลที่ต้องใช้ array ก็เพราะว่าอาจจะมี constructor หลายตัว  \n",
    "ConstructorInfo[] constructors = type.GetConstructors();\n",
    "\n",
    "//วนลูปเพื่อแสดงรายการ constructor\n",
    "foreach (ConstructorInfo constructor in constructors)\n",
    "{\n",
    "    Console.WriteLine($\"Name = {constructor.Name}\");\n",
    "    Console.WriteLine($\"Parameters = {constructor.GetParameters().Length}\");\n",
    "    if (constructor.GetParameters().Length == 0)\n",
    "    {\n",
    "       Console.WriteLine(\"            ** อาจจะเป็น default constructor (ในกรณีที่ไม่มี  parameterless constructor)\");\n",
    "    }\n",
    "    Console.WriteLine($\"IsConstructor = {constructor.IsConstructor}\");\n",
    "    Console.WriteLine($\"Attributes = {constructor.Attributes}\");\n",
    "    Console.WriteLine(\"------------------------------------------\");\n",
    "}"
   ]
  },
  {
   "cell_type": "markdown",
   "metadata": {},
   "source": [
    "#### 4. กรณีที่มี constructor มากกว่า 1 ตัว และจำนวนพารามิเตอร์เท่ากัน "
   ]
  },
  {
   "cell_type": "code",
   "execution_count": 4,
   "metadata": {
    "dotnet_interactive": {
     "language": "csharp"
    },
    "polyglot_notebook": {
     "kernelName": "csharp"
    }
   },
   "outputs": [
    {
     "name": "stdout",
     "output_type": "stream",
     "text": [
      "Name = .ctor\n",
      "Parameters = 0\n",
      "            ** อาจจะเป็น default constructor (ในกรณีที่ไม่มี  parameterless constructor)\n",
      "IsConstructor = True\n",
      "Attributes = Public, HideBySig, SpecialName, RTSpecialName\n",
      "------------------------------------------\n",
      "Name = .ctor\n",
      "Parameters = 1\n",
      "IsConstructor = True\n",
      "Attributes = Public, HideBySig, SpecialName, RTSpecialName\n",
      "------------------------------------------\n",
      "Name = .ctor\n",
      "Parameters = 1\n",
      "IsConstructor = True\n",
      "Attributes = Public, HideBySig, SpecialName, RTSpecialName\n",
      "------------------------------------------\n"
     ]
    }
   ],
   "source": [
    "using System;\n",
    "using System.Reflection;\n",
    "\n",
    "// คลาสที่ไม่มีการสร้างคอนสตรักเตอร์ไว้ในคลาส คอมไพเลอร์จะสร้างให้โดยอัตโนมัติ 1 ตัว\n",
    "// เป็นคอนสตรักเตอร์ที่ไม่มีพารามิเตอร์ ไม่มีชนิดส่งค่ากลับ และมีระดับการเข้าถึง\n",
    "\n",
    "class Dog\n",
    "{\n",
    "    // parameterless constructor\n",
    "    public Dog()\n",
    "    {\n",
    "    }\n",
    "    public Dog(int Age)\n",
    "    {\n",
    "    }\n",
    "    public Dog(string Name)\n",
    "    {\n",
    "    }\n",
    "}\n",
    "\n",
    "// สร้าง reference ชนิด type ขึ้นมา 1 ตัว แล้วกำหนดค่า typeof ให้เป็น Dog \n",
    "// เพื่อที่จะแสดง information ของ Dog  \n",
    "Type type = typeof(Dog);\n",
    "\n",
    "// สร้าง array ของ ConstructorInfo เพือที่จะวนลูปแสดง\n",
    "// เหตุผลที่ต้องใช้ array ก็เพราะว่าอาจจะมี constructor หลายตัว  \n",
    "ConstructorInfo[] constructors = type.GetConstructors();\n",
    "\n",
    "//วนลูปเพื่อแสดงรายการ constructor\n",
    "foreach (ConstructorInfo constructor in constructors)\n",
    "{\n",
    "    Console.WriteLine($\"Name = {constructor.Name}\");\n",
    "    Console.WriteLine($\"Parameters = {constructor.GetParameters().Length}\");\n",
    "    if (constructor.GetParameters().Length == 0)\n",
    "    {\n",
    "       Console.WriteLine(\"            ** อาจจะเป็น default constructor (ในกรณีที่ไม่มี  parameterless constructor)\");\n",
    "    }\n",
    "    Console.WriteLine($\"IsConstructor = {constructor.IsConstructor}\");\n",
    "    Console.WriteLine($\"Attributes = {constructor.Attributes}\");\n",
    "    Console.WriteLine(\"------------------------------------------\");\n",
    "}"
   ]
  },
  {
   "cell_type": "markdown",
   "metadata": {},
   "source": [
    "#### 5. กรณีที่มี constructor มากกว่า 1 ตัว และแต่จำนวนพารามิเตอร์เท่ากัน "
   ]
  },
  {
   "cell_type": "code",
   "execution_count": null,
   "metadata": {
    "dotnet_interactive": {
     "language": "csharp"
    },
    "polyglot_notebook": {
     "kernelName": "csharp"
    }
   },
   "outputs": [
    {
     "name": "stdout",
     "output_type": "stream",
     "text": [
      "Name = .ctor\n",
      "Parameters = 0\n",
      "            ** อาจจะเป็น default constructor (ในกรณีที่ไม่มี  parameterless constructor)\n",
      "IsConstructor = True\n",
      "Attributes = Public, HideBySig, SpecialName, RTSpecialName\n",
      "------------------------------------------\n",
      "Name = .ctor\n",
      "Parameters = 1\n",
      "IsConstructor = True\n",
      "Attributes = Public, HideBySig, SpecialName, RTSpecialName\n",
      "------------------------------------------\n",
      "Name = .ctor\n",
      "Parameters = 1\n",
      "IsConstructor = True\n",
      "Attributes = Public, HideBySig, SpecialName, RTSpecialName\n",
      "------------------------------------------\n",
      "Name = .ctor\n",
      "Parameters = 2\n",
      "IsConstructor = True\n",
      "Attributes = Public, HideBySig, SpecialName, RTSpecialName\n",
      "------------------------------------------\n"
     ]
    }
   ],
   "source": [
    "using System;\n",
    "using System.Reflection;\n",
    "\n",
    "// คลาสที่ไม่มีการสร้างคอนสตรักเตอร์ไว้ในคลาส คอมไพเลอร์จะสร้างให้โดยอัตโนมัติ 1 ตัว\n",
    "// เป็นคอนสตรักเตอร์ที่ไม่มีพารามิเตอร์ ไม่มีชนิดส่งค่ากลับ และมีระดับการเข้าถึง\n",
    "\n",
    "class Dog\n",
    "{\n",
    "    // parameterless constructor\n",
    "    public Dog()\n",
    "    {\n",
    "    }\n",
    "    public Dog(int Age)\n",
    "    {\n",
    "    }\n",
    "    public Dog(string Name)\n",
    "    {\n",
    "    }\n",
    "    public Dog(string Name, int Age)\n",
    "    {\n",
    "    }\n",
    "}\n",
    "\n",
    "// สร้าง reference ชนิด type ขึ้นมา 1 ตัว แล้วกำหนดค่า typeof ให้เป็น Dog \n",
    "// เพื่อที่จะแสดง information ของ Dog  \n",
    "Type type = typeof(Dog);\n",
    "\n",
    "// สร้าง array ของ ConstructorInfo เพือที่จะวนลูปแสดง\n",
    "// เหตุผลที่ต้องใช้ array ก็เพราะว่าอาจจะมี constructor หลายตัว  \n",
    "ConstructorInfo[] constructors = type.GetConstructors();\n",
    "\n",
    "//วนลูปเพื่อแสดงรายการ constructor\n",
    "foreach (ConstructorInfo constructor in constructors)\n",
    "{\n",
    "    Console.WriteLine($\"Name = {constructor.Name}\");\n",
    "    Console.WriteLine($\"Parameters = {constructor.GetParameters().Length}\");\n",
    "    if (constructor.GetParameters().Length == 0)\n",
    "    {\n",
    "       Console.WriteLine(\"            ** อาจจะเป็น default constructor (ในกรณีที่ไม่มี  parameterless constructor)\");\n",
    "    }\n",
    "    Console.WriteLine($\"IsConstructor = {constructor.IsConstructor}\");\n",
    "    Console.WriteLine($\"Attributes = {constructor.Attributes}\");\n",
    "    Console.WriteLine(\"------------------------------------------\");\n",
    "}"
   ]
  }
 ],
 "metadata": {
  "kernelspec": {
   "display_name": ".NET (C#)",
   "language": "C#",
   "name": ".net-csharp"
  },
  "polyglot_notebook": {
   "kernelInfo": {
    "defaultKernelName": "csharp",
    "items": [
     {
      "aliases": [],
      "languageName": "csharp",
      "name": "csharp"
     }
    ]
   }
  }
 },
 "nbformat": 4,
 "nbformat_minor": 2
}
